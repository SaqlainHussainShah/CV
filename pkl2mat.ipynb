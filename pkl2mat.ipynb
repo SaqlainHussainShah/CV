{
 "cells": [
  {
   "cell_type": "code",
   "execution_count": 6,
   "metadata": {},
   "outputs": [],
   "source": [
    "import os\n",
    "import pickle\n",
    "import scipy.io"
   ]
  },
  {
   "cell_type": "code",
   "execution_count": 7,
   "metadata": {},
   "outputs": [
    {
     "data": {
      "text/plain": [
       "'D:\\\\saqlain'"
      ]
     },
     "execution_count": 7,
     "metadata": {},
     "output_type": "execute_result"
    }
   ],
   "source": [
    "pwd"
   ]
  },
  {
   "cell_type": "code",
   "execution_count": 8,
   "metadata": {},
   "outputs": [
    {
     "name": "stdout",
     "output_type": "stream",
     "text": [
      " Volume in drive D is DATA\n",
      " Volume Serial Number is 28B5-DE71\n",
      "\n",
      " Directory of D:\\saqlain\n",
      "\n",
      "08/12/2020  01:09 PM    <DIR>          .\n",
      "08/12/2020  01:09 PM    <DIR>          ..\n",
      "08/12/2020  01:07 PM    <DIR>          .ipynb_checkpoints\n",
      "24/11/2020  07:45 PM             4,290 faceFeatMod.py\n",
      "25/11/2020  10:31 AM    <DIR>          faceFeatures\n",
      "08/12/2020  01:08 PM    <DIR>          faceFeaturesMat\n",
      "08/12/2020  01:09 PM             2,611 pkl2mat.ipynb\n",
      "23/11/2020  05:32 PM             7,145 trainAllFaces.ipynb\n",
      "23/11/2020  05:32 PM            11,259 trainAllFaces.txt\n",
      "08/08/2020  04:40 PM             8,107 trainId.txt\n",
      "               5 File(s)         33,412 bytes\n",
      "               5 Dir(s)  20,115,820,544 bytes free\n"
     ]
    }
   ],
   "source": [
    "ls\n"
   ]
  },
  {
   "cell_type": "code",
   "execution_count": 9,
   "metadata": {},
   "outputs": [],
   "source": [
    "pklFiles = os.listdir('faceFeatures/')"
   ]
  },
  {
   "cell_type": "code",
   "execution_count": 10,
   "metadata": {},
   "outputs": [
    {
     "data": {
      "text/plain": [
       "1140"
      ]
     },
     "execution_count": 10,
     "metadata": {},
     "output_type": "execute_result"
    }
   ],
   "source": [
    "len(pklFiles)"
   ]
  },
  {
   "cell_type": "code",
   "execution_count": 14,
   "metadata": {},
   "outputs": [
    {
     "data": {
      "text/plain": [
       "'id10049.pkl'"
      ]
     },
     "execution_count": 14,
     "metadata": {},
     "output_type": "execute_result"
    }
   ],
   "source": [
    "file"
   ]
  },
  {
   "cell_type": "code",
   "execution_count": 16,
   "metadata": {},
   "outputs": [
    {
     "data": {
      "text/plain": [
       "'id10049'"
      ]
     },
     "execution_count": 16,
     "metadata": {},
     "output_type": "execute_result"
    }
   ],
   "source": [
    "file[:-4]"
   ]
  },
  {
   "cell_type": "code",
   "execution_count": 21,
   "metadata": {},
   "outputs": [],
   "source": [
    "i = 1\n",
    "for file in pklFiles:\n",
    "    if i < 1005:\n",
    "        i += 1\n",
    "        continue\n",
    "    name = \"faceFeatures/\" + file  \n",
    "    p = open('%s'%name,'rb')\n",
    "    data = pickle.load(p)\n",
    "    dict = {}\n",
    "    dict['data'] = data\n",
    "    name = \"faceFeaturesMat/\" + file[:-4] + \".mat\"\n",
    "    scipy.io.savemat(name,dict)"
   ]
  },
  {
   "cell_type": "code",
   "execution_count": null,
   "metadata": {},
   "outputs": [],
   "source": []
  }
 ],
 "metadata": {
  "kernelspec": {
   "display_name": "Python 3",
   "language": "python",
   "name": "python3"
  },
  "language_info": {
   "codemirror_mode": {
    "name": "ipython",
    "version": 3
   },
   "file_extension": ".py",
   "mimetype": "text/x-python",
   "name": "python",
   "nbconvert_exporter": "python",
   "pygments_lexer": "ipython3",
   "version": "3.7.7"
  }
 },
 "nbformat": 4,
 "nbformat_minor": 4
}
